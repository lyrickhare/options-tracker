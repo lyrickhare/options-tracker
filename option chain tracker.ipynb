{
 "cells": [
  {
   "cell_type": "markdown",
   "metadata": {},
   "source": [
    "# libraries"
   ]
  },
  {
   "cell_type": "code",
   "execution_count": 1,
   "metadata": {},
   "outputs": [],
   "source": [
    "import requests\n",
    "import pandas as pd\n",
    "import time\n",
    "import matplotlib.pyplot as plt\n",
    "import numpy as np\n",
    "import seaborn as sb"
   ]
  },
  {
   "cell_type": "markdown",
   "metadata": {},
   "source": [
    "## OPTIONS DATA"
   ]
  },
  {
   "cell_type": "code",
   "execution_count": 44,
   "metadata": {},
   "outputs": [],
   "source": [
    "def updateData():\n",
    "    ''' This function is used to get the raw-data in JSON format from NSE NIFTY50 Options using it's API and storing it '''\n",
    "    \n",
    "    url='https://www.nseindia.com/api/option-chain-indices?symbol=NIFTY'\n",
    "    headers={\n",
    "        'user-agent': \"Mozilla/5.0 (Windows NT 10.0; Win64; x64) AppleWebKit/537.36 (KHTML, like Gecko) Chrome/103.0.0.0 Safari/537.36\",\n",
    "        \"accept-encoding\" : \"gzip, deflate, br\",\n",
    "        'accept-language': 'en-GB,en-US;q=0.9,en;q=0.8'\n",
    "    }\n",
    "    session=requests.Session()\n",
    "    request=session.get(url,headers=headers)\n",
    "    cookies=dict(request.cookies)\n",
    "    response=session.get(url,headers=headers,cookies=cookies).json()\n",
    "    rawdata=pd.DataFrame(response)\n",
    "    # The rawdata would have the present day's record as well as future dateabss\n",
    "    rawop=pd.DataFrame(rawdata['filtered']['data']).fillna(0)\n",
    "    nifty50cur=rawdata['records']['underlyingValue']\n",
    "    # Taking only the present day's data, and returning it\n",
    "    return rawop,nifty50cur"
   ]
  },
  {
   "cell_type": "markdown",
   "metadata": {},
   "source": [
    "## option data extraction"
   ]
  },
  {
   "cell_type": "code",
   "execution_count": 5,
   "metadata": {},
   "outputs": [],
   "source": [
    "def dataframe(rawop):\n",
    "    ''' This function is used to convert the Raw-JSON data into a structured data-frame'''\n",
    "    data=[]\n",
    "    for i in range(0,len(rawop)):\n",
    "        calloi=callcoi=putoi=putcoi=calliv=putiv=cltp=pltp=0\n",
    "        stp=rawop['strikePrice'][i]\n",
    "        exp=rawop[\"expiryDate\"][i]\n",
    "        if(rawop['CE'][i]==0):\n",
    "            calloi=callcoi=0\n",
    "        else:\n",
    "            calloi=rawop['CE'][i]['openInterest']\n",
    "            callcoi=rawop['CE'][i]['changeinOpenInterest']            \n",
    "            cltp=rawop['CE'][i]['lastPrice']\n",
    "            calliv=rawop['CE'][i]['impliedVolatility']\n",
    "        if(rawop['PE'][i]==0):\n",
    "            putoi=putcoi=0\n",
    "        else:\n",
    "            putoi=rawop['PE'][i]['openInterest']\n",
    "            putcoi=rawop['PE'][i]['changeinOpenInterest']            \n",
    "            pltp=rawop['PE'][i]['lastPrice']\n",
    "            putiv=rawop['PE'][i]['impliedVolatility']\n",
    "        opdata = {\n",
    "            'EXP': exp,\n",
    "            'STP': stp,\n",
    "            'CALL OI': calloi, 'CALL COI':callcoi, 'CALL LTP':cltp, 'CALL IV':calliv,\n",
    "            'PUT OI': putoi, 'PUT COI':putcoi, 'PUT LTP':pltp, 'PUT IV':putiv,\n",
    "        }              \n",
    "        data.append(opdata)\n",
    "    optionchain=pd.DataFrame(data)\n",
    "    return optionchain"
   ]
  },
  {
   "cell_type": "code",
   "execution_count": 5,
   "metadata": {},
   "outputs": [],
   "source": [
    "def main():\n",
    "    old=pd.read_csv(oldData.csv)\n",
    "    rawop=updateData()\n",
    "    niftyprice=updateNifty()\n",
    "    optionchain=dataframe(rawop)\n",
    "    optionchain=appendpcrOI(optionchain)\n",
    "    optionchain=appendpcrCOI(optionchain)\n",
    "    STPrange=STP_range(optionchain, 5, niftyprice)\n",
    "    plotOI(optionchain,per,STPrange)\n",
    "    plotCOI(optionchain,per,STPrange)\n",
    "    plotIV(optionchain,per,STPrange)\n",
    "    old.loc['CalloldIVATM','PutoldIVATM']=storeIV(optionchain,CalloldIVATM,PutoldIVATM)\n",
    "    plotIVtime(optionchain)\n",
    "    print(totPCR(optionchain))"
   ]
  },
  {
   "cell_type": "code",
   "execution_count": 6,
   "metadata": {},
   "outputs": [
    {
     "ename": "NameError",
     "evalue": "name 'oldData' is not defined",
     "output_type": "error",
     "traceback": [
      "\u001b[1;31m---------------------------------------------------------------------------\u001b[0m",
      "\u001b[1;31mNameError\u001b[0m                                 Traceback (most recent call last)",
      "\u001b[1;32m~\\AppData\\Local\\Temp\\ipykernel_1752\\2576851462.py\u001b[0m in \u001b[0;36m<cell line: 2>\u001b[1;34m()\u001b[0m\n\u001b[0;32m      1\u001b[0m \u001b[1;32mwhile\u001b[0m \u001b[1;32mTrue\u001b[0m\u001b[1;33m:\u001b[0m\u001b[1;33m\u001b[0m\u001b[1;33m\u001b[0m\u001b[0m\n\u001b[1;32m----> 2\u001b[1;33m     \u001b[0mmain\u001b[0m\u001b[1;33m(\u001b[0m\u001b[1;33m)\u001b[0m\u001b[1;33m\u001b[0m\u001b[1;33m\u001b[0m\u001b[0m\n\u001b[0m\u001b[0;32m      3\u001b[0m     \u001b[0mtime\u001b[0m\u001b[1;33m.\u001b[0m\u001b[0msleep\u001b[0m\u001b[1;33m(\u001b[0m\u001b[1;36m600\u001b[0m\u001b[1;33m)\u001b[0m\u001b[1;33m\u001b[0m\u001b[1;33m\u001b[0m\u001b[0m\n",
      "\u001b[1;32m~\\AppData\\Local\\Temp\\ipykernel_1752\\1075900202.py\u001b[0m in \u001b[0;36mmain\u001b[1;34m()\u001b[0m\n\u001b[0;32m      1\u001b[0m \u001b[1;32mdef\u001b[0m \u001b[0mmain\u001b[0m\u001b[1;33m(\u001b[0m\u001b[1;33m)\u001b[0m\u001b[1;33m:\u001b[0m\u001b[1;33m\u001b[0m\u001b[1;33m\u001b[0m\u001b[0m\n\u001b[1;32m----> 2\u001b[1;33m     \u001b[0mold\u001b[0m\u001b[1;33m=\u001b[0m\u001b[0mpd\u001b[0m\u001b[1;33m.\u001b[0m\u001b[0mread_csv\u001b[0m\u001b[1;33m(\u001b[0m\u001b[0moldData\u001b[0m\u001b[1;33m.\u001b[0m\u001b[0mcsv\u001b[0m\u001b[1;33m)\u001b[0m\u001b[1;33m\u001b[0m\u001b[1;33m\u001b[0m\u001b[0m\n\u001b[0m\u001b[0;32m      3\u001b[0m     \u001b[0mrawop\u001b[0m\u001b[1;33m=\u001b[0m\u001b[0mupdateData\u001b[0m\u001b[1;33m(\u001b[0m\u001b[1;33m)\u001b[0m\u001b[1;33m\u001b[0m\u001b[1;33m\u001b[0m\u001b[0m\n\u001b[0;32m      4\u001b[0m     \u001b[0mniftyprice\u001b[0m\u001b[1;33m=\u001b[0m\u001b[0mupdateNifty\u001b[0m\u001b[1;33m(\u001b[0m\u001b[1;33m)\u001b[0m\u001b[1;33m\u001b[0m\u001b[1;33m\u001b[0m\u001b[0m\n\u001b[0;32m      5\u001b[0m     \u001b[0moptionchain\u001b[0m\u001b[1;33m=\u001b[0m\u001b[0mdataframe\u001b[0m\u001b[1;33m(\u001b[0m\u001b[0mrawop\u001b[0m\u001b[1;33m)\u001b[0m\u001b[1;33m\u001b[0m\u001b[1;33m\u001b[0m\u001b[0m\n",
      "\u001b[1;31mNameError\u001b[0m: name 'oldData' is not defined"
     ]
    }
   ],
   "source": [
    "while True:\n",
    "    main()\n",
    "    time.sleep(600)"
   ]
  },
  {
   "cell_type": "code",
   "execution_count": 49,
   "metadata": {},
   "outputs": [],
   "source": [
    "optionchain = dataframe(updateData()[0])\n",
    "nifty50cur = (updateData()[1])"
   ]
  },
  {
   "cell_type": "code",
   "execution_count": 12,
   "metadata": {},
   "outputs": [],
   "source": [
    "def appendpcrOI(optionchain):\n",
    "    ''' This function gives us the ratio for PUT OI and CALL OI.\n",
    "        Significance is to get what is the people's perception of a particular strike price'''\n",
    "    pcr=[]\n",
    "    optionchain=optionchain.T\n",
    "    for i in range(0,optionchain.shape[1]):\n",
    "        if(optionchain.loc['CALL OI'][i]!=0):\n",
    "            pcr.append(optionchain.loc['PUT OI'][i]/optionchain.loc['CALL OI'][i])\n",
    "        else:\n",
    "            pcr.append(0)\n",
    "    optionchain.loc['PCR OI']=pcr\n",
    "    optionchain=optionchain.T\n",
    "    return optionchain"
   ]
  },
  {
   "cell_type": "code",
   "execution_count": 13,
   "metadata": {},
   "outputs": [],
   "source": [
    "def appendpcrCOI(optionchain):\n",
    "    '''This function provides us the ratio of the change in PUT OI and the change in the CALL OI.\n",
    "       This function tells us the dynamic change in the people's percetion'''\n",
    "    pcr=[]\n",
    "    optionchain=optionchain.T\n",
    "    for i in range(0,optionchain.shape[1]):\n",
    "        if(optionchain.loc['CALL COI'][i]!=0):\n",
    "            pcr.append(optionchain.loc['PUT COI'][i]/optionchain.loc['CALL COI'][i])\n",
    "        else:\n",
    "            pcr.append(0)\n",
    "    optionchain.loc['PCR COI']=pcr\n",
    "    optionchain=optionchain.T\n",
    "    return optionchain"
   ]
  },
  {
   "cell_type": "code",
   "execution_count": 69,
   "metadata": {},
   "outputs": [],
   "source": [
    "def STP_range(optionchain, percent, niftyprice):\n",
    "    ''' Gives the STP range for percent above and below niftyprice'''\n",
    "    low = niftyprice*(100-percent)/100\n",
    "    high = niftyprice*(100+percent)/100\n",
    "    min_idx = optionchain['STP'].sub(low).abs().idxmin()\n",
    "    max_idx = optionchain['STP'].sub(high).abs().idxmin()\n",
    "    range1=[min_idx,max_idx]\n",
    "    return (range1)"
   ]
  },
  {
   "cell_type": "code",
   "execution_count": 82,
   "metadata": {},
   "outputs": [
    {
     "data": {
      "text/plain": [
       "array([139322, 130743, 124765,  96311,  80894], dtype=int64)"
      ]
     },
     "execution_count": 82,
     "metadata": {},
     "output_type": "execute_result"
    }
   ],
   "source": [
    "optionchain.nlargest(5, ['CALL OI'])['CALL OI'].to_numpy()"
   ]
  },
  {
   "cell_type": "code",
   "execution_count": 92,
   "metadata": {},
   "outputs": [],
   "source": [
    "def plotmaxOI(optionchain):\n",
    "    tot_sum_CALL_OI = optionchain['CALL OI'].sum()\n",
    "    tot_sum_PUT_OI = optionchain['PUT OI'].sum()\n",
    "    CALL_OI_max_5 = optionchain.nlargest(5, ['CALL OI'])['CALL OI'].to_numpy()\n",
    "    CALL_OI_max_5_normalzed = CALL_OI_max_5/tot_sum_CALL_OI*100\n",
    "    print(CALL_OI_max_5_normalzed)\n",
    "    PUT_OI_max_5 = optionchain.nlargest(5, ['PUT OI'])['PUT OI'].to_numpy()\n",
    "    PUT_OI_max_5_normalzed = PUT_OI_max_5/tot_sum_PUT_OI*100\n",
    "    plt.pie(CALL_OI_max_5_normalzed,labels=CALL_OI_max_5)\n",
    "    plt.show()"
   ]
  },
  {
   "cell_type": "code",
   "execution_count": 93,
   "metadata": {},
   "outputs": [
    {
     "name": "stdout",
     "output_type": "stream",
     "text": [
      "[9.98849318 9.37343394 8.94484971 6.90488054 5.79958059]\n"
     ]
    },
    {
     "data": {
      "image/png": "[encoded data removed]",
      "text/plain": [
       "<Figure size 432x288 with 1 Axes>"
      ]
     },
     "metadata": {},
     "output_type": "display_data"
    }
   ],
   "source": [
    "plotmaxOI(optionchain)"
   ]
  },
  {
   "cell_type": "code",
   "execution_count": 40,
   "metadata": {},
   "outputs": [
    {
     "data": {
      "text/html": [
       "<div>\n",
       "<style scoped>\n",
       "    .dataframe tbody tr th:only-of-type {\n",
       "        vertical-align: middle;\n",
       "    }\n",
       "\n",
       "    .dataframe tbody tr th {\n",
       "        vertical-align: top;\n",
       "    }\n",
       "\n",
       "    .dataframe thead th {\n",
       "        text-align: right;\n",
       "    }\n",
       "</style>\n",
       "<table border=\"1\" class=\"dataframe\">\n",
       "  <thead>\n",
       "    <tr style=\"text-align: right;\">\n",
       "      <th></th>\n",
       "      <th>EXP</th>\n",
       "      <th>STP</th>\n",
       "      <th>CALL OI</th>\n",
       "      <th>CALL COI</th>\n",
       "      <th>CALL LTP</th>\n",
       "      <th>CALL IV</th>\n",
       "      <th>PUT OI</th>\n",
       "      <th>PUT COI</th>\n",
       "      <th>PUT LTP</th>\n",
       "      <th>PUT IV</th>\n",
       "    </tr>\n",
       "  </thead>\n",
       "  <tbody>\n",
       "    <tr>\n",
       "      <th>0</th>\n",
       "      <td>15-Sep-2022</td>\n",
       "      <td>14050</td>\n",
       "      <td>0</td>\n",
       "      <td>0</td>\n",
       "      <td>0.00</td>\n",
       "      <td>0.00</td>\n",
       "      <td>1220</td>\n",
       "      <td>571</td>\n",
       "      <td>0.60</td>\n",
       "      <td>63.62</td>\n",
       "    </tr>\n",
       "    <tr>\n",
       "      <th>1</th>\n",
       "      <td>15-Sep-2022</td>\n",
       "      <td>14100</td>\n",
       "      <td>0</td>\n",
       "      <td>0</td>\n",
       "      <td>0.00</td>\n",
       "      <td>0.00</td>\n",
       "      <td>639</td>\n",
       "      <td>100</td>\n",
       "      <td>0.60</td>\n",
       "      <td>62.75</td>\n",
       "    </tr>\n",
       "    <tr>\n",
       "      <th>2</th>\n",
       "      <td>15-Sep-2022</td>\n",
       "      <td>14150</td>\n",
       "      <td>0</td>\n",
       "      <td>0</td>\n",
       "      <td>0.00</td>\n",
       "      <td>0.00</td>\n",
       "      <td>58</td>\n",
       "      <td>12</td>\n",
       "      <td>0.70</td>\n",
       "      <td>62.75</td>\n",
       "    </tr>\n",
       "    <tr>\n",
       "      <th>3</th>\n",
       "      <td>15-Sep-2022</td>\n",
       "      <td>14200</td>\n",
       "      <td>0</td>\n",
       "      <td>0</td>\n",
       "      <td>0.00</td>\n",
       "      <td>0.00</td>\n",
       "      <td>498</td>\n",
       "      <td>416</td>\n",
       "      <td>0.65</td>\n",
       "      <td>61.46</td>\n",
       "    </tr>\n",
       "    <tr>\n",
       "      <th>4</th>\n",
       "      <td>15-Sep-2022</td>\n",
       "      <td>14250</td>\n",
       "      <td>0</td>\n",
       "      <td>0</td>\n",
       "      <td>0.00</td>\n",
       "      <td>0.00</td>\n",
       "      <td>47</td>\n",
       "      <td>35</td>\n",
       "      <td>0.70</td>\n",
       "      <td>61.00</td>\n",
       "    </tr>\n",
       "    <tr>\n",
       "      <th>...</th>\n",
       "      <td>...</td>\n",
       "      <td>...</td>\n",
       "      <td>...</td>\n",
       "      <td>...</td>\n",
       "      <td>...</td>\n",
       "      <td>...</td>\n",
       "      <td>...</td>\n",
       "      <td>...</td>\n",
       "      <td>...</td>\n",
       "      <td>...</td>\n",
       "    </tr>\n",
       "    <tr>\n",
       "      <th>104</th>\n",
       "      <td>15-Sep-2022</td>\n",
       "      <td>19250</td>\n",
       "      <td>542</td>\n",
       "      <td>244</td>\n",
       "      <td>0.90</td>\n",
       "      <td>22.79</td>\n",
       "      <td>0</td>\n",
       "      <td>0</td>\n",
       "      <td>0.00</td>\n",
       "      <td>0.00</td>\n",
       "    </tr>\n",
       "    <tr>\n",
       "      <th>105</th>\n",
       "      <td>15-Sep-2022</td>\n",
       "      <td>19300</td>\n",
       "      <td>9259</td>\n",
       "      <td>5706</td>\n",
       "      <td>0.80</td>\n",
       "      <td>23.19</td>\n",
       "      <td>0</td>\n",
       "      <td>0</td>\n",
       "      <td>0.00</td>\n",
       "      <td>0.00</td>\n",
       "    </tr>\n",
       "    <tr>\n",
       "      <th>106</th>\n",
       "      <td>15-Sep-2022</td>\n",
       "      <td>19350</td>\n",
       "      <td>1255</td>\n",
       "      <td>907</td>\n",
       "      <td>0.80</td>\n",
       "      <td>23.88</td>\n",
       "      <td>0</td>\n",
       "      <td>0</td>\n",
       "      <td>0.00</td>\n",
       "      <td>0.00</td>\n",
       "    </tr>\n",
       "    <tr>\n",
       "      <th>107</th>\n",
       "      <td>15-Sep-2022</td>\n",
       "      <td>19400</td>\n",
       "      <td>20157</td>\n",
       "      <td>7409</td>\n",
       "      <td>0.80</td>\n",
       "      <td>24.56</td>\n",
       "      <td>0</td>\n",
       "      <td>0</td>\n",
       "      <td>0.00</td>\n",
       "      <td>0.00</td>\n",
       "    </tr>\n",
       "    <tr>\n",
       "      <th>108</th>\n",
       "      <td>15-Sep-2022</td>\n",
       "      <td>19450</td>\n",
       "      <td>3026</td>\n",
       "      <td>1465</td>\n",
       "      <td>0.75</td>\n",
       "      <td>25.07</td>\n",
       "      <td>0</td>\n",
       "      <td>0</td>\n",
       "      <td>0.00</td>\n",
       "      <td>0.00</td>\n",
       "    </tr>\n",
       "  </tbody>\n",
       "</table>\n",
       "<p>109 rows × 10 columns</p>\n",
       "</div>"
      ],
      "text/plain": [
       "             EXP    STP  CALL OI  CALL COI  CALL LTP  CALL IV  PUT OI  \\\n",
       "0    15-Sep-2022  14050        0         0      0.00     0.00    1220   \n",
       "1    15-Sep-2022  14100        0         0      0.00     0.00     639   \n",
       "2    15-Sep-2022  14150        0         0      0.00     0.00      58   \n",
       "3    15-Sep-2022  14200        0         0      0.00     0.00     498   \n",
       "4    15-Sep-2022  14250        0         0      0.00     0.00      47   \n",
       "..           ...    ...      ...       ...       ...      ...     ...   \n",
       "104  15-Sep-2022  19250      542       244      0.90    22.79       0   \n",
       "105  15-Sep-2022  19300     9259      5706      0.80    23.19       0   \n",
       "106  15-Sep-2022  19350     1255       907      0.80    23.88       0   \n",
       "107  15-Sep-2022  19400    20157      7409      0.80    24.56       0   \n",
       "108  15-Sep-2022  19450     3026      1465      0.75    25.07       0   \n",
       "\n",
       "     PUT COI  PUT LTP  PUT IV  \n",
       "0        571     0.60   63.62  \n",
       "1        100     0.60   62.75  \n",
       "2         12     0.70   62.75  \n",
       "3        416     0.65   61.46  \n",
       "4         35     0.70   61.00  \n",
       "..       ...      ...     ...  \n",
       "104        0     0.00    0.00  \n",
       "105        0     0.00    0.00  \n",
       "106        0     0.00    0.00  \n",
       "107        0     0.00    0.00  \n",
       "108        0     0.00    0.00  \n",
       "\n",
       "[109 rows x 10 columns]"
      ]
     },
     "execution_count": 40,
     "metadata": {},
     "output_type": "execute_result"
    }
   ],
   "source": [
    "optionchain"
   ]
  },
  {
   "cell_type": "code",
   "execution_count": 70,
   "metadata": {},
   "outputs": [],
   "source": [
    "def plotOI(optionchain,per,STPrange):\n",
    "    '''Plot OI'''\n",
    "    [min,max]=STPrange\n",
    "    X = optionchain['STP'][min:max]\n",
    "    YC = optionchain['CALL OI'][min:max]\n",
    "    YP = optionchain['PUT OI'][min:max]\n",
    "\n",
    "    X_axis = np.arange(len(X))\n",
    "\n",
    "    plt.bar(X_axis - 0.2, YC, 0.4, label = 'CALL')\n",
    "    plt.bar(X_axis + 0.2, YP, 0.4, label = 'PUT')\n",
    "\n",
    "    plt.xticks(X_axis, X)\n",
    "    plt.xlabel(\"STP\")\n",
    "    plt.ylabel(\"OI\")\n",
    "    plt.title(\"CALL | PUT OI BAR GRAPH\")\n",
    "    plt.legend()\n",
    "    plt.show()\n",
    "\n",
    "    "
   ]
  },
  {
   "cell_type": "code",
   "execution_count": 71,
   "metadata": {},
   "outputs": [],
   "source": [
    "def plotCOI(optionchain,per,STPrange):\n",
    "    [min,max]=STPrange\n",
    "    X = optionchain['STP'][min:max]\n",
    "    YC = optionchain['CALL COI'][min:max]\n",
    "    YP = optionchain['PUT COI'][min:max]\n",
    "\n",
    "    X_axis = np.arange(len(X))\n",
    "\n",
    "    plt.bar(X_axis - 0.2, YC, 0.4, label = 'CALL')\n",
    "    plt.bar(X_axis + 0.2, YP, 0.4, label = 'PUT')\n",
    "\n",
    "    plt.xticks(X_axis, X)\n",
    "    plt.xlabel(\"STP\")\n",
    "    plt.ylabel(\"COI\")\n",
    "    plt.title(\"CALL | PUT COI BAR GRAPH\")\n",
    "    plt.legend()\n",
    "    plt.show()"
   ]
  },
  {
   "cell_type": "code",
   "execution_count": 72,
   "metadata": {},
   "outputs": [],
   "source": [
    "def totPCR(optionchain):\n",
    "    totCall=sum(np.array(optionchain['CALL OI']))\n",
    "    totPut=sum(np.array(optionchain['PUT OI']))\n",
    "    return [(totPut/totCall),totPut,totCall]"
   ]
  },
  {
   "cell_type": "code",
   "execution_count": 73,
   "metadata": {},
   "outputs": [],
   "source": [
    "def plotIV(optionchain,per,STPrange):\n",
    "    [min,max]=STPrange\n",
    "    X = optionchain['STP'][min:max]\n",
    "    YC = optionchain['CALL IV'][min:max]\n",
    "    YP = optionchain['PUT IV'][min:max]\n",
    "\n",
    "    X_axis = np.arange(len(X))\n",
    "\n",
    "    plt.bar(X_axis - 0.2, YC, 0.4, label = 'CALL')\n",
    "    plt.bar(X_axis + 0.2, YP, 0.4, label = 'PUT')\n",
    "\n",
    "    plt.xticks(X_axis, X)\n",
    "    plt.xlabel(\"STP\")\n",
    "    plt.ylabel(\"IV\")\n",
    "    plt.title(\"CALL | PUT IV BAR GRAPH\")\n",
    "    plt.legend()\n",
    "    plt.show()\n",
    "    "
   ]
  },
  {
   "cell_type": "code",
   "execution_count": 74,
   "metadata": {},
   "outputs": [],
   "source": [
    "def plotIVtime(optionchain):\n",
    "  \n",
    "    x = np.arange(0,len(CalloldIVATM)) #it is time\n",
    "    y = CalloldIVATM #CalloldIVATM is a global variable\n",
    "    # first plot with X and Y data\n",
    "    plt.plot(x, y)\n",
    "    y1 = PutoldIVATM\n",
    "\n",
    "    # second plot with x1 and y1 data\n",
    "    plt.plot(x, y1, '-.')\n",
    "\n",
    "    plt.xlabel(\"time\")\n",
    "    plt.ylabel(\"IV ATM\")\n",
    "    plt.title('IV changing with time')\n",
    "    plt.show()\n",
    "    "
   ]
  },
  {
   "cell_type": "code",
   "execution_count": 75,
   "metadata": {},
   "outputs": [],
   "source": [
    "def storeIV(optionchain,CalloldIVATM,PutoldIVATM):\n",
    "    optionchain=optionchain.T\n",
    "    i=STPATM(optionchain)\n",
    "    CalloldIVATM.append(optionchain.loc['CALL IV'][i])\n",
    "    PutoldIVATM.append(optionchain.loc['PUT IV'][i])\n",
    "    return ([CalloldIVATM,PutoldIVATM])  #add update iv atm in main function\n",
    "    \n",
    "    "
   ]
  },
  {
   "cell_type": "code",
   "execution_count": 77,
   "metadata": {},
   "outputs": [],
   "source": [
    "def STPATM(optionchain):\n",
    "    for i in range(0,optionchain.shape[0]):\n",
    "        if(optionchain.iloc[i][1]<currentNifty() and optionchain.iloc[i+1][1]>currentNifty()):\n",
    "            return i"
   ]
  },
  {
   "cell_type": "code",
   "execution_count": null,
   "metadata": {},
   "outputs": [],
   "source": []
  }
 ],
 "metadata": {
  "kernelspec": {
   "display_name": "Python 3 (ipykernel)",
   "language": "python",
   "name": "python3"
  },
  "language_info": {
   "codemirror_mode": {
    "name": "ipython",
    "version": 3
   },
   "file_extension": ".py",
   "mimetype": "text/x-python",
   "name": "python",
   "nbconvert_exporter": "python",
   "pygments_lexer": "ipython3",
   "version": "3.8.3"
  }
 },
 "nbformat": 4,
 "nbformat_minor": 5
}
