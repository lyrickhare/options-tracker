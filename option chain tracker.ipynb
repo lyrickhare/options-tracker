{
 "cells": [
  {
   "cell_type": "markdown",
   "id": "99c63c88",
   "metadata": {},
   "source": [
    "# libraries"
   ]
  },
  {
   "cell_type": "code",
   "execution_count": 1,
   "id": "1b98cd6e",
   "metadata": {},
   "outputs": [],
   "source": [
    "import requests\n",
    "import pandas as pd\n",
    "import time\n",
    "import matplotlib.pyplot as plt\n",
    "import numpy as np\n",
    "import seaborn as sb"
   ]
  },
  {
   "cell_type": "markdown",
   "id": "eda9d414",
   "metadata": {},
   "source": [
    "## OPTIONS DATA"
   ]
  },
  {
   "cell_type": "code",
   "execution_count": 5,
   "id": "5b957e89",
   "metadata": {},
   "outputs": [],
   "source": [
    "def updateData():\n",
    "    url='https://www.nseindia.com/api/option-chain-indices?symbol=NIFTY'\n",
    "    headers={\n",
    "        'user-agent': \"Mozilla/5.0 (Windows NT 10.0; Win64; x64) AppleWebKit/537.36 (KHTML, like Gecko) Chrome/103.0.0.0 Safari/537.36\",\n",
    "        \"accept-encoding\" : \"gzip, deflate, br\",\n",
    "        'accept-language': 'en-GB,en-US;q=0.9,en;q=0.8'\n",
    "    }\n",
    "    session=requests.Session()\n",
    "    request=session.get(url,headers=headers)\n",
    "    cookies=dict(request.cookies)\n",
    "    response=session.get(url,headers=headers,cookies=cookies).json()\n",
    "    rawdata=pd.DataFrame(response)\n",
    "    rawop=pd.DataFrame(rawdata['filtered']['data']).fillna(0)\n",
    "    nifty50cur=rawdata['records']['underlyingValue']\n",
    "    return rawop ,nifty50cur"
   ]
  },
  {
   "cell_type": "code",
   "execution_count": 6,
   "id": "d3d689eb",
   "metadata": {},
   "outputs": [
    {
     "data": {
      "text/plain": [
       "17833.35"
      ]
     },
     "execution_count": 6,
     "metadata": {},
     "output_type": "execute_result"
    }
   ],
   "source": [
    "updateData()"
   ]
  },
  {
   "cell_type": "markdown",
   "id": "a1012bb5",
   "metadata": {},
   "source": [
    "## NIFTY CURRENT DATA"
   ]
  },
  {
   "cell_type": "markdown",
   "id": "5380be04",
   "metadata": {},
   "source": [
    "## option data extraction"
   ]
  },
  {
   "cell_type": "code",
   "execution_count": null,
   "id": "e7ccd9e2",
   "metadata": {},
   "outputs": [],
   "source": [
    "def dataframe(rawop):\n",
    "    data=[]\n",
    "    for i in range(0,len(rawop)):\n",
    "        calloi=callcoi=putoi=putcoi=calliv=putiv=cltp=pltp=0\n",
    "        stp=rawop['strikePrice'][i]\n",
    "        exp=rawop[\"expiryDate\"][i]\n",
    "        if(rawop['CE'][i]==0):\n",
    "            calloi=callcoi=0\n",
    "        else:\n",
    "            calloi=rawop['CE'][i]['openInterest']\n",
    "            callcoi=rawop['CE'][i]['changeinOpenInterest']            \n",
    "            cltp=rawop['CE'][i]['lastPrice']\n",
    "            calliv=rawop['CE'][i]['impliedVolatility']\n",
    "        if(rawop['PE'][i]==0):\n",
    "            putoi=putcoi=0\n",
    "        else:\n",
    "            putoi=rawop['PE'][i]['openInterest']\n",
    "            putcoi=rawop['PE'][i]['changeinOpenInterest']            \n",
    "            pltp=rawop['PE'][i]['lastPrice']\n",
    "            putiv=rawop['PE'][i]['impliedVolatility']\n",
    "        opdata = {\n",
    "            'EXP': exp,\n",
    "            'STP': stp,\n",
    "            'CALL OI': calloi, 'CALL COI':callcoi, 'CALL LTP':cltp, 'CALL IV':calliv,\n",
    "            'PUT OI': putoi, 'PUT COI':putcoi, 'PUT LTP':pltp, 'PUT IV':putiv,\n",
    "        }              \n",
    "        data.append(opdata)\n",
    "    optionchain=pd.DataFrame(data)\n",
    "    return optionchain"
   ]
  },
  {
   "cell_type": "code",
   "execution_count": 4,
   "id": "eb391f7c",
   "metadata": {},
   "outputs": [],
   "source": [
    "def main():\n",
    "    old=pd.read_csv(oldData.csv)\n",
    "    rawop=updateData()\n",
    "    niftyprice=updateNifty()\n",
    "    optionchain=dataframe(rawop)\n",
    "    optionchain=appendpcrOI(optionchain)\n",
    "    optionchain=appendpcrCOI(optionchain)\n",
    "    STPrange=STP_range(optionchain, 5, niftyprice)\n",
    "    plotOI(optionchain,per,STPrange)\n",
    "    plotCOI(optionchain,per,STPrange)\n",
    "    plotIV(optionchain,per,STPrange)\n",
    "    old.loc['CalloldIVATM','PutoldIVATM']=storeIV(optionchain,CalloldIVATM,PutoldIVATM)\n",
    "    plotIVtime(optionchain)\n",
    "    print(totPCR(optionchain))"
   ]
  },
  {
   "cell_type": "code",
   "execution_count": null,
   "id": "e51b338a",
   "metadata": {},
   "outputs": [],
   "source": [
    "while True:\n",
    "    main()\n",
    "    time.sleep(600)"
   ]
  },
  {
   "cell_type": "code",
   "execution_count": 13,
   "id": "78326237",
   "metadata": {},
   "outputs": [],
   "source": [
    "def appendpcrOI(optionchain):\n",
    "    pcr=[]\n",
    "    optionchain=optionchain.T\n",
    "    for i in range(0,optionchain.shape[1]):\n",
    "        if(optionchain.loc['CALL OI'][i]!=0):\n",
    "            pcr.append(optionchain.loc['PUT OI'][i]/optionchain.loc['CALL OI'][i])\n",
    "        else:\n",
    "            pcr.append(0)\n",
    "    optionchain.loc['PCR OI']=pcr\n",
    "    optionchain=optionchain.T\n",
    "    return optionchain"
   ]
  },
  {
   "cell_type": "code",
   "execution_count": 12,
   "id": "b5d8edab",
   "metadata": {},
   "outputs": [],
   "source": [
    "def appendpcrOI(optionchain):\n",
    "    pcr=[]\n",
    "    optionchain=optionchain.T\n",
    "    for i in range(0,optionchain.shape[1]):\n",
    "        if(optionchain.loc['CALL COI'][i]!=0):\n",
    "            pcr.append(optionchain.loc['PUT COI'][i]/optionchain.loc['CALL COI'][i])\n",
    "        else:\n",
    "            pcr.append(0)\n",
    "    optionchain.loc['PCR COI']=pcr\n",
    "    optionchain=optionchain.T\n",
    "    return optionchain"
   ]
  },
  {
   "cell_type": "code",
   "execution_count": null,
   "id": "ce88fc29",
   "metadata": {},
   "outputs": [],
   "source": [
    "def STP_range(optionchain, percent, niftyprice):\n",
    "    minraw=niftyprice*(1+percent*0.01)\n",
    "    return (range1)"
   ]
  },
  {
   "cell_type": "code",
   "execution_count": null,
   "id": "37df0454",
   "metadata": {},
   "outputs": [],
   "source": [
    "def plotOI(optionchain,per,STPrange):\n",
    "    [min,max]=STPrange\n",
    "    X = optionchain['STP'][min:max]\n",
    "    YC = optionchain['CALL OI'][min:max]\n",
    "    YP = optionchain['PUT OI'][min:max]\n",
    "\n",
    "    X_axis = np.arange(len(X))\n",
    "\n",
    "    plt.bar(X_axis - 0.2, YC, 0.4, label = 'CALL')\n",
    "    plt.bar(X_axis + 0.2, YP, 0.4, label = 'PUT')\n",
    "\n",
    "    plt.xticks(X_axis, X)\n",
    "    plt.xlabel(\"STP\")\n",
    "    plt.ylabel(\"OI\")\n",
    "    plt.title(\"CALL | PUT OI BAR GRAPH\")\n",
    "    plt.legend()\n",
    "    plt.show()\n",
    "\n",
    "    "
   ]
  },
  {
   "cell_type": "code",
   "execution_count": null,
   "id": "77f2ef5e",
   "metadata": {},
   "outputs": [],
   "source": [
    "def plotCOI(optionchain,per,STPrange):\n",
    "    [min,max]=STPrange\n",
    "    X = optionchain['STP'][min:max]\n",
    "    YC = optionchain['CALL COI'][min:max]\n",
    "    YP = optionchain['PUT COI'][min:max]\n",
    "\n",
    "    X_axis = np.arange(len(X))\n",
    "\n",
    "    plt.bar(X_axis - 0.2, YC, 0.4, label = 'CALL')\n",
    "    plt.bar(X_axis + 0.2, YP, 0.4, label = 'PUT')\n",
    "\n",
    "    plt.xticks(X_axis, X)\n",
    "    plt.xlabel(\"STP\")\n",
    "    plt.ylabel(\"COI\")\n",
    "    plt.title(\"CALL | PUT COI BAR GRAPH\")\n",
    "    plt.legend()\n",
    "    plt.show()"
   ]
  },
  {
   "cell_type": "code",
   "execution_count": null,
   "id": "7a729413",
   "metadata": {},
   "outputs": [],
   "source": [
    "def totPCR(optionchain):\n",
    "    totCall=sum(np.array(optionchain['CALL OI']))\n",
    "    totPut=sum(np.array(optionchain['PUT OI']))\n",
    "    return [(totPut/totCall),totPut,totCall]"
   ]
  },
  {
   "cell_type": "code",
   "execution_count": null,
   "id": "210fe458",
   "metadata": {},
   "outputs": [],
   "source": [
    "def plotIV(optionchain,per,STPrange):\n",
    "    [min,max]=STPrange\n",
    "    X = optionchain['STP'][min:max]\n",
    "    YC = optionchain['CALL IV'][min:max]\n",
    "    YP = optionchain['PUT IV'][min:max]\n",
    "\n",
    "    X_axis = np.arange(len(X))\n",
    "\n",
    "    plt.bar(X_axis - 0.2, YC, 0.4, label = 'CALL')\n",
    "    plt.bar(X_axis + 0.2, YP, 0.4, label = 'PUT')\n",
    "\n",
    "    plt.xticks(X_axis, X)\n",
    "    plt.xlabel(\"STP\")\n",
    "    plt.ylabel(\"IV\")\n",
    "    plt.title(\"CALL | PUT IV BAR GRAPH\")\n",
    "    plt.legend()\n",
    "    plt.show()\n",
    "    "
   ]
  },
  {
   "cell_type": "code",
   "execution_count": null,
   "id": "b818cad1",
   "metadata": {},
   "outputs": [],
   "source": [
    "def plotIVtime(optionchain):\n",
    "  \n",
    "    x = np.arange(0,len(CalloldIVATM)) #it is time\n",
    "    y = CalloldIVATM #CalloldIVATM is a global variable\n",
    "    # first plot with X and Y data\n",
    "    plt.plot(x, y)\n",
    "    y1 = PutoldIVATM\n",
    "\n",
    "    # second plot with x1 and y1 data\n",
    "    plt.plot(x, y1, '-.')\n",
    "\n",
    "    plt.xlabel(\"time\")\n",
    "    plt.ylabel(\"IV ATM\")\n",
    "    plt.title('IV changing with time')\n",
    "    plt.show()\n",
    "    "
   ]
  },
  {
   "cell_type": "code",
   "execution_count": null,
   "id": "196e9663",
   "metadata": {},
   "outputs": [],
   "source": [
    "def storeIV(optionchain,CalloldIVATM,PutoldIVATM):\n",
    "    optionchain=optionchain.T\n",
    "    i=STPATM(optionchain)\n",
    "    CalloldIVATM.append(optionchain.loc['CALL IV'][i])\n",
    "    PutoldIVATM.append(optionchain.loc['PUT IV'][i])\n",
    "    return ([CalloldIVATM,PutoldIVATM])  #add update iv atm in main function\n",
    "    \n",
    "    "
   ]
  },
  {
   "cell_type": "code",
   "execution_count": null,
   "id": "04da3239",
   "metadata": {},
   "outputs": [],
   "source": [
    "def STPATM(optionchain):\n",
    "    for i in range(0,optionchain.shape[0]):\n",
    "        if(optionchain.iloc[i][1]<currentNifty() && optionchain.iloc[i+1][1]>currentNifty()):\n",
    "            return i"
   ]
  },
  {
   "cell_type": "code",
   "execution_count": null,
   "id": "ba90e317",
   "metadata": {},
   "outputs": [],
   "source": []
  }
 ],
 "metadata": {
  "kernelspec": {
   "display_name": "Python 3.10.4 64-bit",
   "language": "python",
   "name": "python3"
  },
  "language_info": {
   "codemirror_mode": {
    "name": "ipython",
    "version": 3
   },
   "file_extension": ".py",
   "mimetype": "text/x-python",
   "name": "python",
   "nbconvert_exporter": "python",
   "pygments_lexer": "ipython3",
   "version": "3.10.4"
  },
  "vscode": {
   "interpreter": {
    "hash": "916dbcbb3f70747c44a77c7bcd40155683ae19c65e1c03b4aa3499c5328201f1"
   }
  }
 },
 "nbformat": 4,
 "nbformat_minor": 5
}
