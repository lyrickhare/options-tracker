{
 "cells": [
  {
   "attachments": {},
   "cell_type": "markdown",
   "id": "85ed8867",
   "metadata": {},
   "source": [
    "# libraries"
   ]
  },
  {
   "cell_type": "code",
   "execution_count": 2,
   "id": "8ae47541",
   "metadata": {},
   "outputs": [],
   "source": [
    "import requests\n",
    "import pandas as pd\n",
    "import time\n",
    "import matplotlib.pyplot as plt\n",
    "import numpy as np\n",
    "import seaborn as sb"
   ]
  },
  {
   "attachments": {},
   "cell_type": "markdown",
   "id": "109e6ff8",
   "metadata": {},
   "source": [
    "## OPTIONS DATA"
   ]
  },
  {
   "cell_type": "code",
   "execution_count": 5,
   "id": "7c3c7d7f",
   "metadata": {},
   "outputs": [],
   "source": [
    "def updateData():\n",
    "    ''' This function is used to get the raw-data in JSON format from NSE NIFTY50 Options using it's API and storing it '''\n",
    "    \n",
    "    url='https://www.nseindia.com/api/option-chain-indices?symbol=NIFTY'\n",
    "    headers={\n",
    "        'user-agent': \"Mozilla/5.0 (Windows NT 10.0; Win64; x64) AppleWebKit/537.36 (KHTML, like Gecko) Chrome/103.0.0.0 Safari/537.36\",\n",
    "        \"accept-encoding\" : \"gzip, deflate, br\",\n",
    "        'accept-language': 'en-GB,en-US;q=0.9,en;q=0.8'\n",
    "    }\n",
    "    session=requests.Session()\n",
    "    request=session.get(url,headers=headers)\n",
    "    cookies=dict(request.cookies)\n",
    "    response=session.get(url,headers=headers,cookies=cookies).json()\n",
    "    rawdata=pd.DataFrame(response)\n",
    "    # The rawdata would have the present day's record as well as future dateabss\n",
    "    rawop=pd.DataFrame(rawdata['filtered']['data']).fillna(0)\n",
    "    nifty50cur=rawdata['records']['underlyingValue']\n",
    "    # Taking only the present day's data, and returning it\n",
    "    return rawop,nifty50cur"
   ]
  },
  {
   "cell_type": "code",
   "execution_count": null,
   "id": "bb341a08",
   "metadata": {},
   "outputs": [],
   "source": []
  },
  {
   "attachments": {},
   "cell_type": "markdown",
   "id": "5bd7ff12",
   "metadata": {},
   "source": [
    "## option data extraction"
   ]
  },
  {
   "cell_type": "code",
   "execution_count": 6,
   "id": "abfd4e97",
   "metadata": {},
   "outputs": [],
   "source": [
    "def dataframe(rawop):\n",
    "    ''' This function is used to convert the Raw-JSON data into a structured data-frame'''\n",
    "    data=[]\n",
    "    for i in range(0,len(rawop)):\n",
    "        calloi=callcoi=putoi=putcoi=calliv=putiv=cltp=pltp=0\n",
    "        stp=rawop['strikePrice'][i]\n",
    "        exp=rawop[\"expiryDate\"][i]\n",
    "        if(rawop['CE'][i]==0):\n",
    "            calloi=callcoi=0\n",
    "        else:\n",
    "            calloi=rawop['CE'][i]['openInterest']\n",
    "            callcoi=rawop['CE'][i]['changeinOpenInterest']            \n",
    "            cltp=rawop['CE'][i]['lastPrice']\n",
    "            calliv=rawop['CE'][i]['impliedVolatility']\n",
    "        if(rawop['PE'][i]==0):\n",
    "            putoi=putcoi=0\n",
    "        else:\n",
    "            putoi=rawop['PE'][i]['openInterest']\n",
    "            putcoi=rawop['PE'][i]['changeinOpenInterest']            \n",
    "            pltp=rawop['PE'][i]['lastPrice']\n",
    "            putiv=rawop['PE'][i]['impliedVolatility']\n",
    "        opdata = {\n",
    "            'EXP': exp,\n",
    "            'STP': stp,\n",
    "            'CALL OI': calloi, 'CALL COI':callcoi, 'CALL LTP':cltp, 'CALL IV':calliv,\n",
    "            'PUT OI': putoi, 'PUT COI':putcoi, 'PUT LTP':pltp, 'PUT IV':putiv,\n",
    "        }              \n",
    "        data.append(opdata)\n",
    "    optionchain=pd.DataFrame(data)\n",
    "    return optionchain"
   ]
  },
  {
   "cell_type": "code",
   "execution_count": 7,
   "id": "99063850",
   "metadata": {},
   "outputs": [],
   "source": [
    "optionchain = dataframe(updateData()[0])\n",
    "nifty50cur = (updateData()[1])"
   ]
  },
  {
   "cell_type": "code",
   "execution_count": 8,
   "id": "c030205c",
   "metadata": {},
   "outputs": [
    {
     "data": {
      "text/plain": [
       "Index(['EXP', 'STP', 'CALL OI', 'CALL COI', 'CALL LTP', 'CALL IV', 'PUT OI',\n",
       "       'PUT COI', 'PUT LTP', 'PUT IV'],\n",
       "      dtype='object')"
      ]
     },
     "execution_count": 8,
     "metadata": {},
     "output_type": "execute_result"
    }
   ],
   "source": [
    "optionchain.columns"
   ]
  },
  {
   "cell_type": "code",
   "execution_count": 8,
   "id": "8a699b08",
   "metadata": {},
   "outputs": [
    {
     "data": {
      "text/plain": [
       "18203.4"
      ]
     },
     "execution_count": 8,
     "metadata": {},
     "output_type": "execute_result"
    }
   ],
   "source": [
    "nifty50cur"
   ]
  },
  {
   "cell_type": "code",
   "execution_count": 33,
   "id": "59356bea",
   "metadata": {},
   "outputs": [],
   "source": [
    "def appendpcrOI(optionchain):\n",
    "    ''' This function gives us the ratio for PUT OI and CALL OI.\n",
    "        Significance is to get what is the people's perception of a particular strike price'''\n",
    "    pcr=[]\n",
    "    optionchain=optionchain.T\n",
    "    for i in range(0,optionchain.shape[1]):\n",
    "        if(optionchain.loc['CALL OI'][i]!=0):\n",
    "            pcr.append(optionchain.loc['PUT OI'][i]/optionchain.loc['CALL OI'][i])\n",
    "        else:\n",
    "            pcr.append(0)\n",
    "    optionchain.loc['PCR OI']=pcr\n",
    "    optionchain=optionchain.T\n",
    "    return optionchain"
   ]
  },
  {
   "cell_type": "code",
   "execution_count": 13,
   "id": "d5f09dc7",
   "metadata": {},
   "outputs": [],
   "source": [
    "def appendpcrCOI(optionchain):\n",
    "    '''This function provides us the ratio of the change in PUT OI and the change in the CALL OI.\n",
    "       This function tells us the dynamic change in the people's percetion'''\n",
    "    pcr=[]\n",
    "    optionchain=optionchain.T\n",
    "    for i in range(0,optionchain.shape[1]):\n",
    "        if(optionchain.loc['CALL COI'][i]!=0):\n",
    "            pcr.append(optionchain.loc['PUT COI'][i]/optionchain.loc['CALL COI'][i])\n",
    "        else:\n",
    "            pcr.append(0)\n",
    "    optionchain.loc['PCR COI']=pcr\n",
    "    optionchain=optionchain.T\n",
    "    return optionchain"
   ]
  },
  {
   "cell_type": "code",
   "execution_count": 34,
   "id": "72851f3e",
   "metadata": {},
   "outputs": [],
   "source": [
    "def STP_range(optionchain, percent, niftyprice):\n",
    "    ''' Gives the STP range for percent above and below niftyprice'''\n",
    "    low = niftyprice*(100-percent)/100\n",
    "    high = niftyprice*(100+percent)/100\n",
    "    min_idx = optionchain['STP'].sub(low).abs().idxmin()\n",
    "    max_idx = optionchain['STP'].sub(high).abs().idxmin()\n",
    "    range1=[min_idx,max_idx]\n",
    "    return (range1)"
   ]
  },
  {
   "cell_type": "code",
   "execution_count": 35,
   "id": "16c253f5",
   "metadata": {},
   "outputs": [
    {
     "data": {
      "text/plain": [
       "array([159514, 134427, 115674, 102847,  99464])"
      ]
     },
     "execution_count": 35,
     "metadata": {},
     "output_type": "execute_result"
    }
   ],
   "source": [
    "optionchain.nlargest(5, ['CALL OI'])['CALL OI'].to_numpy()"
   ]
  },
  {
   "cell_type": "code",
   "execution_count": 36,
   "id": "3ff488f8",
   "metadata": {},
   "outputs": [],
   "source": [
    "def plotmaxOI(optionchain):\n",
    "    tot_sum_CALL_OI = optionchain['CALL OI'].sum()\n",
    "    tot_sum_PUT_OI = optionchain['PUT OI'].sum()\n",
    "    CALL_OI_max_5 = optionchain.nlargest(5, ['CALL OI'])['CALL OI'].to_numpy()\n",
    "    CALL_OI_max_5_normalzed = CALL_OI_max_5/tot_sum_CALL_OI*100\n",
    "    print(CALL_OI_max_5_normalzed)\n",
    "    PUT_OI_max_5 = optionchain.nlargest(5, ['PUT OI'])['PUT OI'].to_numpy()\n",
    "    PUT_OI_max_5_normalzed = PUT_OI_max_5/tot_sum_PUT_OI*100\n",
    "    plt.pie(CALL_OI_max_5_normalzed,labels=CALL_OI_max_5)\n",
    "    plt.show()"
   ]
  },
  {
   "cell_type": "code",
   "execution_count": 37,
   "id": "0bd41725",
   "metadata": {},
   "outputs": [
    {
     "name": "stdout",
     "output_type": "stream",
     "text": [
      "[10.47182768  8.82490803  7.5938049   6.75173377  6.52964547]\n"
     ]
    },
    {
     "data": {
      "image/png": "[encoded data removed]",
      "text/plain": [
       "<Figure size 640x480 with 1 Axes>"
      ]
     },
     "metadata": {},
     "output_type": "display_data"
    }
   ],
   "source": [
    "plotmaxOI(optionchain)"
   ]
  },
  {
   "cell_type": "code",
   "execution_count": 43,
   "id": "af3505a1",
   "metadata": {},
   "outputs": [],
   "source": [
    "def plotOI(optionchain,STPrange):\n",
    "    '''Plot OI'''\n",
    "    [min,max]=STPrange\n",
    "    X = optionchain['STP'][min:max]\n",
    "    YC = optionchain['CALL OI'][min:max]\n",
    "    YP = optionchain['PUT OI'][min:max]\n",
    "    Xmod = [optionchain['STP'][min] , optionchain['STP'][(min+max)//2] ,optionchain['STP'][max]] \n",
    "    X_axis = np.arange(len(X))\n",
    "    X_axismod = [0,len(X)//2,len(X)]\n",
    "    \n",
    "    plt.bar(X_axis - 0.2, YC, 0.4, label = 'CALL')\n",
    "    plt.bar(X_axis + 0.2, YP, 0.4, label = 'PUT')\n",
    "\n",
    "    plt.xticks(X_axismod, Xmod)\n",
    "\n",
    "    plt.xlabel(\"STP\")\n",
    "    plt.ylabel(\"OI\")\n",
    "    plt.title(\"CALL | PUT OI BAR GRAPH\")\n",
    "    plt.legend()\n",
    "    plt.show()\n",
    "\n",
    "    "
   ]
  },
  {
   "cell_type": "code",
   "execution_count": 52,
   "id": "5e8dd946",
   "metadata": {},
   "outputs": [
    {
     "data": {
      "image/png": "[encoded data removed]",
      "text/plain": [
       "<Figure size 640x480 with 1 Axes>"
      ]
     },
     "metadata": {},
     "output_type": "display_data"
    }
   ],
   "source": [
    "plotIV(optionchain,STP_range(optionchain,2.5,nifty50cur))"
   ]
  },
  {
   "cell_type": "code",
   "execution_count": 47,
   "id": "3054e3bf",
   "metadata": {},
   "outputs": [],
   "source": [
    "def plotCOI(optionchain,STPrange):\n",
    "    [min,max]=STPrange\n",
    "    X = optionchain['STP'][min:max]\n",
    "    YC = optionchain['CALL COI'][min:max]\n",
    "    YP = optionchain['PUT COI'][min:max]\n",
    "    Xmod = [optionchain['STP'][min] , optionchain['STP'][(min+max)//2] ,optionchain['STP'][max]] \n",
    "    X_axis = np.arange(len(X))\n",
    "    X_axismod = [0,len(X)//2,len(X)]\n",
    "\n",
    "    plt.bar(X_axis - 0.2, YC, 0.4, label = 'CALL')\n",
    "    plt.bar(X_axis + 0.2, YP, 0.4, label = 'PUT')\n",
    "\n",
    "    plt.xticks(X_axismod, Xmod)\n",
    "    plt.xlabel(\"STP\")\n",
    "    plt.ylabel(\"COI\")\n",
    "    plt.title(\"CALL | PUT COI BAR GRAPH\")\n",
    "    plt.legend()\n",
    "    plt.show()"
   ]
  },
  {
   "cell_type": "code",
   "execution_count": 72,
   "id": "f6578af5",
   "metadata": {},
   "outputs": [],
   "source": [
    "def totPCR(optionchain):\n",
    "    totCall=sum(np.array(optionchain['CALL OI']))\n",
    "    totPut=sum(np.array(optionchain['PUT OI']))\n",
    "    return [(totPut/totCall),totPut,totCall]"
   ]
  },
  {
   "cell_type": "code",
   "execution_count": 51,
   "id": "b8b9dee4",
   "metadata": {},
   "outputs": [],
   "source": [
    "def plotIV(optionchain,STPrange):\n",
    "    [min,max]=STPrange\n",
    "    X = optionchain['STP'][min:max]\n",
    "    YC = optionchain['CALL IV'][min:max]\n",
    "    YP = optionchain['PUT IV'][min:max]\n",
    "    Xmod = [optionchain['STP'][min] , optionchain['STP'][(min+max)//2] ,optionchain['STP'][max]] \n",
    "    X_axis = np.arange(len(X))\n",
    "    X_axismod = [0,len(X)//2,len(X)]\n",
    "\n",
    "    plt.bar(X_axis - 0.2, YC, 0.4, label = 'CALL')\n",
    "    plt.bar(X_axis + 0.2, YP, 0.4, label = 'PUT')\n",
    "\n",
    "    plt.xticks(X_axismod, Xmod)\n",
    "    plt.xlabel(\"STP\")\n",
    "    plt.ylabel(\"IV\")\n",
    "    plt.title(\"CALL | PUT IV BAR GRAPH\")\n",
    "    plt.legend()\n",
    "    plt.show()\n",
    "    "
   ]
  },
  {
   "cell_type": "code",
   "execution_count": null,
   "id": "57c06006",
   "metadata": {},
   "outputs": [],
   "source": []
  },
  {
   "cell_type": "code",
   "execution_count": 74,
   "id": "07c3de0d",
   "metadata": {},
   "outputs": [],
   "source": [
    "def plotIVtime(optionchain):\n",
    "  \n",
    "    x = np.arange(0,len(CalloldIVATM)) #it is time\n",
    "    y = CalloldIVATM #CalloldIVATM is a global variable\n",
    "    # first plot with X and Y data\n",
    "    plt.plot(x, y)\n",
    "    y1 = PutoldIVATM\n",
    "\n",
    "    # second plot with x1 and y1 data\n",
    "    plt.plot(x, y1, '-.')\n",
    "\n",
    "    plt.xlabel(\"time\")\n",
    "    plt.ylabel(\"IV ATM\")\n",
    "    plt.title('IV changing with time')\n",
    "    plt.show()\n",
    "    "
   ]
  },
  {
   "cell_type": "code",
   "execution_count": 2,
   "id": "c6288cc5",
   "metadata": {},
   "outputs": [],
   "source": [
    "def storeIV(optionchain,CalloldIVATM,PutoldIVATM,nifty50cur):\n",
    "    optionchain=optionchain.T\n",
    "    i = STPATM(optionchain,nifty50cur)\n",
    "    CalloldIVATM.append(optionchain.loc['CALL IV'][i])\n",
    "    PutoldIVATM.append(optionchain.loc['PUT IV'][i])\n",
    "    return ([CalloldIVATM,PutoldIVATM])  #add update iv atm in main function\n",
    "    \n",
    "    "
   ]
  },
  {
   "cell_type": "code",
   "execution_count": 7,
   "id": "791bbbfb",
   "metadata": {},
   "outputs": [],
   "source": [
    "def STPATM(optionchain,nifty50cur):\n",
    "    for i in range(0,optionchain.shape[0]):\n",
    "        if(optionchain.iloc[i][1]<nifty50cur and optionchain.iloc[i+1][1]>nifty50cur):\n",
    "            if(abs(optionchain.iloc[i][1]-nifty50cur)>abs(optionchain.iloc[i+1][1]-nifty50cur)):\n",
    "                return i+1\n",
    "            else:\n",
    "                return i"
   ]
  },
  {
   "cell_type": "code",
   "execution_count": 9,
   "id": "a5cbc271",
   "metadata": {},
   "outputs": [
    {
     "data": {
      "text/plain": [
       "17900"
      ]
     },
     "execution_count": 9,
     "metadata": {},
     "output_type": "execute_result"
    }
   ],
   "source": [
    "optionchain.iloc[STPATM(optionchain,nifty50cur)][1]"
   ]
  },
  {
   "cell_type": "code",
   "execution_count": 23,
   "id": "457fdd4b",
   "metadata": {},
   "outputs": [],
   "source": [
    "import nsepy\n"
   ]
  },
  {
   "cell_type": "code",
   "execution_count": null,
   "id": "a22fb8e8",
   "metadata": {},
   "outputs": [],
   "source": []
  }
 ],
 "metadata": {
  "kernelspec": {
   "display_name": "Python 3 (ipykernel)",
   "language": "python",
   "name": "python3"
  },
  "language_info": {
   "codemirror_mode": {
    "name": "ipython",
    "version": 3
   },
   "file_extension": ".py",
   "mimetype": "text/x-python",
   "name": "python",
   "nbconvert_exporter": "python",
   "pygments_lexer": "ipython3",
   "version": "3.11.3"
  },
  "vscode": {
   "interpreter": {
    "hash": "916dbcbb3f70747c44a77c7bcd40155683ae19c65e1c03b4aa3499c5328201f1"
   }
  }
 },
 "nbformat": 4,
 "nbformat_minor": 5
}
